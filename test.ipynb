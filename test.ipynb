{
 "cells": [
  {
   "cell_type": "code",
   "execution_count": 2,
   "metadata": {},
   "outputs": [],
   "source": [
    "import train "
   ]
  },
  {
   "cell_type": "code",
   "execution_count": null,
   "metadata": {},
   "outputs": [],
   "source": [
    "# train.run(\n",
    "#     data='coco128.yaml', \n",
    "#     imgsz=320, \n",
    "#     weights='yolov5s.pt'\n",
    "# )"
   ]
  },
  {
   "cell_type": "markdown",
   "metadata": {},
   "source": [
    "# Convert YOLO to COCO YAML "
   ]
  },
  {
   "cell_type": "markdown",
   "metadata": {},
   "source": [
    "## Sample export YAML"
   ]
  },
  {
   "cell_type": "code",
   "execution_count": 15,
   "metadata": {},
   "outputs": [
    {
     "name": "stdout",
     "output_type": "stream",
     "text": [
      "key1: value1\n",
      "key2:\n",
      "- 1\n",
      "- 2\n",
      "- 3\n",
      "key3:\n",
      "- nested_key: nested_value\n",
      "- nested_key: nested_value\n",
      "\n"
     ]
    }
   ],
   "source": [
    "import yaml\n",
    "\n",
    "def string_to_yaml(input_string):\n",
    "    try:\n",
    "        # Parse the input string to convert it into a Python data structure\n",
    "        data = yaml.safe_load(input_string)\n",
    "        # Dump the Python data structure to YAML format\n",
    "        yaml_output = yaml.dump(data, default_flow_style=False)\n",
    "        return yaml_output\n",
    "    except yaml.YAMLError as e:\n",
    "        return f\"Error converting string to YAML: {e}\"\n",
    "\n",
    "# Example usage:\n",
    "input_string = {\n",
    "    \"key1\": \"value1\", \n",
    "    \"key2\": [1, 2, 3], \n",
    "    \"key3\": [{\"nested_key\": \"nested_value\"}, {\"nested_key\": \"nested_value\"}]\n",
    "}\n",
    "yaml_output = string_to_yaml(str(input_string))\n",
    "print(yaml_output)\n"
   ]
  },
  {
   "cell_type": "code",
   "execution_count": 6,
   "metadata": {},
   "outputs": [],
   "source": [
    "yolov5_yaml_schema = { \n",
    "    \"path\": None, \n",
    "    \"train\": None, \n",
    "    \"val\": None, \n",
    "    \"test\": None,\n",
    "    \"names\": [], # classes [idx: cls_name]\n",
    "    \"download\": None # Optional \n",
    "}"
   ]
  },
  {
   "cell_type": "code",
   "execution_count": 12,
   "metadata": {},
   "outputs": [],
   "source": [
    "import json \n",
    "from pathlib import Path \n",
    "dataset_path = Path(\"/media/dxv2k/Work & Data/viAct/test_fiftyone/yolo_dataset/dataset\") \n",
    "\n",
    "\n",
    "files = sorted(list(dataset_path.iterdir()))\n",
    "\n",
    "train_images_path = Path('/media/dxv2k/Work & Data/viAct/test_fiftyone/yolo_dataset/dataset/images') \n",
    "train_labels_path = Path('/media/dxv2k/Work & Data/viAct/test_fiftyone/yolo_dataset/dataset/labels')\n",
    "classes_path = Path('/media/dxv2k/Work & Data/viAct/test_fiftyone/yolo_dataset/dataset/notes.json') \n"
   ]
  },
  {
   "cell_type": "code",
   "execution_count": 17,
   "metadata": {},
   "outputs": [
    {
     "data": {
      "text/plain": [
       "[{'id': 0, 'name': 'airplane'},\n",
       " {'id': 1, 'name': 'apple'},\n",
       " {'id': 2, 'name': 'backpack'},\n",
       " {'id': 3, 'name': 'banana'},\n",
       " {'id': 4, 'name': 'baseball bat'}]"
      ]
     },
     "execution_count": 17,
     "metadata": {},
     "output_type": "execute_result"
    }
   ],
   "source": [
    "with open(classes_path.absolute(),\"r\") as f: \n",
    "    classes_json = json.load(f)\n",
    "\n",
    "classes_json['categories'][:5]\n"
   ]
  },
  {
   "cell_type": "code",
   "execution_count": 26,
   "metadata": {},
   "outputs": [
    {
     "name": "stdout",
     "output_type": "stream",
     "text": [
      "[{0: 'airplane'}, {1: 'apple'}, {2: 'backpack'}, {3: 'banana'}, {4: 'baseball bat'}, {5: 'baseball glove'}, {6: 'bear'}, {7: 'bed'}, {8: 'bench'}, {9: 'bicycle'}, {10: 'bird'}, {11: 'boat'}, {12: 'book'}, {13: 'bottle'}, {14: 'bowl'}, {15: 'broccoli'}, {16: 'bus'}, {17: 'cake'}, {18: 'car'}, {19: 'carrot'}, {20: 'cat'}, {21: 'cell phone'}, {22: 'chair'}, {23: 'clock'}, {24: 'couch'}, {25: 'cow'}, {26: 'cup'}, {27: 'dining table'}, {28: 'dog'}, {29: 'donut'}, {30: 'elephant'}, {31: 'fire hydrant'}, {32: 'fork'}, {33: 'frisbee'}, {34: 'giraffe'}, {35: 'hair drier'}, {36: 'handbag'}, {37: 'horse'}, {38: 'hot dog'}, {39: 'keyboard'}, {40: 'kite'}, {41: 'knife'}, {42: 'laptop'}, {43: 'microwave'}, {44: 'motorcycle'}, {45: 'mouse'}, {46: 'orange'}, {47: 'oven'}, {48: 'parking meter'}, {49: 'person'}, {50: 'pizza'}, {51: 'potted plant'}, {52: 'refrigerator'}, {53: 'remote'}, {54: 'sandwich'}, {55: 'scissors'}, {56: 'sheep'}, {57: 'sink'}, {58: 'skateboard'}, {59: 'skis'}, {60: 'snowboard'}, {61: 'spoon'}, {62: 'sports ball'}, {63: 'stop sign'}, {64: 'suitcase'}, {65: 'surfboard'}, {66: 'teddy bear'}, {67: 'tennis racket'}, {68: 'tie'}, {69: 'toaster'}, {70: 'toilet'}, {71: 'toothbrush'}, {72: 'traffic light'}, {73: 'train'}, {74: 'truck'}, {75: 'tv'}, {76: 'umbrella'}, {77: 'vase'}, {78: 'wine glass'}, {79: 'zebra'}]\n"
     ]
    }
   ],
   "source": [
    "yaml_classes_name = []\n",
    "for val in classes_json['categories']: \n",
    "    new_dict = { \n",
    "        val.get('id'): val.get('name')\n",
    "    }\n",
    "    yaml_classes_name.append(new_dict)\n",
    "    # break\n",
    "print(yaml_classes_name)"
   ]
  },
  {
   "cell_type": "code",
   "execution_count": 36,
   "metadata": {},
   "outputs": [],
   "source": [
    "yolov5_yaml_schema = { \n",
    "    \"path\": str(dataset_path.absolute()), \n",
    "    \"train\": str(train_images_path.absolute()), \n",
    "    \"val\": \"\", \n",
    "    \"test\": \"\",\n",
    "    \"names\": yaml_classes_name, # classes [idx: cls_name]\n",
    "    \"download\": \"\" # Optional \n",
    "}"
   ]
  },
  {
   "cell_type": "code",
   "execution_count": 37,
   "metadata": {},
   "outputs": [],
   "source": [
    "with open(\"test.yaml\",\"w+\") as f: \n",
    "    yaml.dump(yolov5_yaml_schema, f)"
   ]
  },
  {
   "cell_type": "code",
   "execution_count": 49,
   "metadata": {},
   "outputs": [],
   "source": [
    "# import train; \n",
    "# # train.run(data='coco128.yaml', imgsz=320, weights='yolov5m.pt')\n",
    "# train.run(\n",
    "#     data='test.yaml', \n",
    "#     imgsz=640,  \n",
    "#     weights='yolov5s.pt'\n",
    "# )"
   ]
  },
  {
   "cell_type": "code",
   "execution_count": 51,
   "metadata": {},
   "outputs": [],
   "source": [
    "from pprint import pprint"
   ]
  },
  {
   "cell_type": "code",
   "execution_count": 56,
   "metadata": {},
   "outputs": [],
   "source": [
    "import shutil\n",
    "def unzip_training_dataset(filepath:str, extract_dir: str) -> Path: \n",
    "    '''\n",
    "    '''\n",
    "    shutil.unpack_archive(filepath, extract_dir)\n",
    "    return Path(extract_dir)  "
   ]
  },
  {
   "cell_type": "code",
   "execution_count": 57,
   "metadata": {},
   "outputs": [],
   "source": [
    "extract_dir = unzip_training_dataset(\n",
    "    \"/media/dxv2k/Work & Data/viAct/test_fiftyone/yolov5/temp_dataset/label_studio_export_yolo.zip\", \n",
    "    \"/media/dxv2k/Work & Data/viAct/test_fiftyone/yolov5/temp_dataset/\"\n",
    ")"
   ]
  },
  {
   "cell_type": "code",
   "execution_count": 59,
   "metadata": {},
   "outputs": [
    {
     "data": {
      "text/plain": [
       "[PosixPath('/media/dxv2k/Work & Data/viAct/test_fiftyone/yolov5/temp_dataset/classes.txt'),\n",
       " PosixPath('/media/dxv2k/Work & Data/viAct/test_fiftyone/yolov5/temp_dataset/images'),\n",
       " PosixPath('/media/dxv2k/Work & Data/viAct/test_fiftyone/yolov5/temp_dataset/label_studio_export_yolo.zip'),\n",
       " PosixPath('/media/dxv2k/Work & Data/viAct/test_fiftyone/yolov5/temp_dataset/labels'),\n",
       " PosixPath('/media/dxv2k/Work & Data/viAct/test_fiftyone/yolov5/temp_dataset/notes.json')]"
      ]
     },
     "execution_count": 59,
     "metadata": {},
     "output_type": "execute_result"
    }
   ],
   "source": [
    "files = sorted(list(\n",
    "    Path(extract_dir).iterdir()\n",
    "))\n",
    "files "
   ]
  },
  {
   "cell_type": "code",
   "execution_count": 63,
   "metadata": {},
   "outputs": [],
   "source": [
    "dataset_path = extract_dir\n",
    "images_path = None\n",
    "labels_path = None\n",
    "classes_path = None\n",
    "\n",
    "for f in files: \n",
    "    if \"images\" in str(f.absolute()): \n",
    "        images_path = f.absolute() \n",
    "    \n",
    "    if \"labels\" in str(f.absolute()): \n",
    "        labels_path = f.absolute() \n",
    "\n",
    "    if \"notes.json\" in str(f.absolute()): \n",
    "        classes_path = f.absolute() \n",
    "\n",
    "\n",
    "with open(classes_path.absolute(),\"r\") as f: \n",
    "    classes_json = json.load(f)\n",
    "\n",
    "yaml_classes_name = []\n",
    "for val in classes_json['categories']: \n",
    "    new_dict = { \n",
    "        val.get('id'): val.get('name')\n",
    "    }\n",
    "    yaml_classes_name.append(new_dict)\n",
    "    # break\n",
    "# print(yaml_classes_name)\n",
    "yolov5_yaml_schema = { \n",
    "    \"path\": str(dataset_path.absolute()), \n",
    "    \"train\": str(images_path.absolute()), \n",
    "    \"val\": \"\", \n",
    "    \"test\": \"\",\n",
    "    \"names\": yaml_classes_name, # classes [idx: cls_name]\n",
    "    \"download\": \"\" # Optional \n",
    "}\n",
    "\n",
    "\n",
    "\n",
    "# pprint(yolov5_yaml_schema)\n",
    "with open(extract_dir / \"test_one_script.yaml\",\"w+\") as f: \n",
    "    yaml.dump(yolov5_yaml_schema, f)\n"
   ]
  },
  {
   "cell_type": "code",
   "execution_count": 61,
   "metadata": {},
   "outputs": [
    {
     "data": {
      "text/plain": [
       "PosixPath('/media/dxv2k/Work & Data/viAct/test_fiftyone/yolov5/temp_dataset/test_one_script.yaml')"
      ]
     },
     "execution_count": 61,
     "metadata": {},
     "output_type": "execute_result"
    }
   ],
   "source": [
    "extract_dir / \"test_one_script.yaml\""
   ]
  },
  {
   "cell_type": "code",
   "execution_count": null,
   "metadata": {},
   "outputs": [],
   "source": []
  }
 ],
 "metadata": {
  "kernelspec": {
   "display_name": ".venv",
   "language": "python",
   "name": "python3"
  },
  "language_info": {
   "codemirror_mode": {
    "name": "ipython",
    "version": 3
   },
   "file_extension": ".py",
   "mimetype": "text/x-python",
   "name": "python",
   "nbconvert_exporter": "python",
   "pygments_lexer": "ipython3",
   "version": "3.10.6"
  },
  "orig_nbformat": 4
 },
 "nbformat": 4,
 "nbformat_minor": 2
}
